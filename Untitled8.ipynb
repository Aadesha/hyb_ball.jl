{
 "cells": [
  {
   "cell_type": "code",
   "execution_count": 1,
   "metadata": {},
   "outputs": [],
   "source": [
    "using SumOfSquares, DynamicPolynomials, MosekTools, TaylorModels, Plots"
   ]
  },
  {
   "cell_type": "code",
   "execution_count": 2,
   "metadata": {},
   "outputs": [],
   "source": [
    "using SemialgebraicSets"
   ]
  },
  {
   "cell_type": "code",
   "execution_count": 3,
   "metadata": {},
   "outputs": [
    {
     "name": "stdout",
     "output_type": "stream",
     "text": [
      "pdINF criteria :: line 1192 in sdpa_parts.cpp\n",
      "270.449741475974\n"
     ]
    }
   ],
   "source": [
    "#Keplar3\n",
    "using SDPA\n",
    "model = SOSModel(with_optimizer(SDPA.Optimizer))\n",
    "#model = SOSModel(with_optimizer(Mosek.Optimizer, QUIET=true))\n",
    "k = 4 # use this number or higher\n",
    "a = Interval(-4.5, -0.3)\n",
    "b = Interval(0.4, 0.9)\n",
    "c = Interval(3.8, 7.8)\n",
    "d = Interval(8.0, 10.0)\n",
    "e = Interval(-10.0, 8.0)\n",
    "f = Interval(1.0, 2.0)\n",
    "\n",
    "\n",
    "@polyvar x1 x2 x3 x4 x5 x6\n",
    " p =  x1 * x4 * (-x1 + x2 + x3 - x4 + x5 + x6) +\n",
    "         x2 * x5 * (x1 - x2 + x3 + x4 - x5 + x6) +x3* x6 * (x1 + x2 - x3 + x4 + x5 - x6) -\n",
    "         x2 * x3 * x4 -x1* x3* x5 - x1 * x2 * x6 - x4 * x5 * x6\n",
    "dom = a×b×c×d×e×f\n",
    "@variable(model, γ)\n",
    "S = @set inf(a) <= x1 && x1 <= sup(a) &&\n",
    "         inf(b) <= x2 && x2 <= sup(b) &&\n",
    "         inf(c) <= x3 && x3 <= sup(c) &&\n",
    "         inf(d) <= x4 && x4 <= sup(d) &&\n",
    "         inf(e) <= x5 && x5 <= sup(e) &&\n",
    "         inf(f) <= x6 && x6 <= sup(f) \n",
    "@constraint(model, p <= γ, domain=S, maxdegree=k)\n",
    "\n",
    "@objective(model, Min, γ)\n",
    "optimize!(model)\n",
    "println(objective_value(model))\n",
    "\n"
   ]
  },
  {
   "cell_type": "code",
   "execution_count": 6,
   "metadata": {},
   "outputs": [
    {
     "name": "stdout",
     "output_type": "stream",
     "text": [
      "pdINF criteria :: line 1192 in sdpa_parts.cpp\n",
      "-0.11264492044379935\n"
     ]
    }
   ],
   "source": [
    "#Keplar3\n",
    "model = SOSModel(with_optimizer(SDPA.Optimizer))\n",
    "@polyvar x1 x2 x3 x4 x5 x6\n",
    " p =  x1 * x4 * (-x1 + x2 + x3 - x4 + x5 + x6) +\n",
    "         x2 * x5 * (x1 - x2 + x3 + x4 - x5 + x6) +x3* x6 * (x1 + x2 - x3 + x4 + x5 - x6) -\n",
    "         x2 * x3 * x4 -x1* x3* x5 - x1 * x2 * x6 - x4 * x5 * x6\n",
    "dom = a×b×c×d×e×f\n",
    "@variable(model, γ)\n",
    "S = @set inf(a) <= x1 && x1 <= sup(a) &&\n",
    "         inf(b) <= x2 && x2 <= sup(b) &&\n",
    "         inf(c) <= x3 && x3 <= sup(c) &&\n",
    "         inf(d) <= x4 && x4 <= sup(d) &&\n",
    "         inf(e) <= x5 && x5 <= sup(e) &&\n",
    "         inf(f) <= x6 && x6 <= sup(f) \n",
    "@constraint(model, p >= γ, domain = S, maxdegree=k)\n",
    "@objective(model, Max, γ)\n",
    "optimize!(model)\n",
    "println(objective_value(model))"
   ]
  },
  {
   "cell_type": "code",
   "execution_count": 7,
   "metadata": {},
   "outputs": [
    {
     "name": "stdout",
     "output_type": "stream",
     "text": [
      "pdINF criteria :: line 1192 in sdpa_parts.cpp\n",
      "-227.64871260616206\n"
     ]
    }
   ],
   "source": [
    "#Keplar2\n",
    "model = SOSModel(with_optimizer(SDPA.Optimizer))\n",
    "#model = SOSModel(with_optimizer(Mosek.Optimizer, QUIET=true))\n",
    "k = 5 # use this number or higher\n",
    "@polyvar x1 x2 x3 x4 \n",
    "    p = x1 * x4 * (-x1 + x2 + x3 - x4) + x2 * (x1 - x2 + x3 + x4) +\n",
    "        x3 * (x1 + x2 - x3 + x4) -x2 * x3 * x4 - x1 * x3 - x1 * x2 - x4\n",
    "dom = a×b×c×d×e×f\n",
    "@variable(model, γ)\n",
    "S = @set inf(a) <= x1 && x1 <= sup(a) &&\n",
    "         inf(b) <= x2 && x2 <= sup(b) &&\n",
    "         inf(c) <= x3 && x3 <= sup(c) &&\n",
    "         inf(d) <= x4 && x4 <= sup(d)\n",
    "@constraint(model, p >= γ, domain=S, maxdegree = k)\n",
    "\n",
    "@objective(model, Max, γ)\n",
    "optimize!(model)\n",
    "println(objective_value(model))"
   ]
  },
  {
   "cell_type": "code",
   "execution_count": 8,
   "metadata": {},
   "outputs": [
    {
     "name": "stdout",
     "output_type": "stream",
     "text": [
      "89.33999214221612\n"
     ]
    }
   ],
   "source": [
    "#Keplar2\n",
    "model = SOSModel(with_optimizer(SDPA.Optimizer))\n",
    "#model = SOSModel(with_optimizer(Mosek.Optimizer, QUIET=true))\n",
    "k = 5 # use this number or higher\n",
    "@polyvar x1 x2 x3 x4 \n",
    "    p = x1 * x4 * (-x1 + x2 + x3 - x4) + x2 * (x1 - x2 + x3 + x4) +\n",
    "        x3 * (x1 + x2 - x3 + x4) -x2 * x3 * x4 - x1 * x3 - x1 * x2 - x4\n",
    "dom = a×b×c×d×e×f\n",
    "@variable(model, γ)\n",
    "S = @set inf(a) <= x1 && x1 <= sup(a) &&\n",
    "         inf(b) <= x2 && x2 <= sup(b) &&\n",
    "         inf(c) <= x3 && x3 <= sup(c) &&\n",
    "         inf(d) <= x4 && x4 <= sup(d)\n",
    "@constraint(model, p <= γ, domain=S, maxdegree = k)\n",
    "\n",
    "@objective(model, Min, γ)\n",
    "optimize!(model)\n",
    "println(objective_value(model))"
   ]
  },
  {
   "cell_type": "code",
   "execution_count": 9,
   "metadata": {},
   "outputs": [
    {
     "name": "stdout",
     "output_type": "stream",
     "text": [
      "pdINF criteria :: line 1192 in sdpa_parts.cpp\n",
      "47.24826833116291\n"
     ]
    }
   ],
   "source": [
    "#Keplar1\n",
    "model = SOSModel(with_optimizer(SDPA.Optimizer))\n",
    "#model = SOSModel(with_optimizer(Mosek.Optimizer, QUIET=true))\n",
    "k = 5 # use this number or higher\n",
    "@polyvar x1 x2 x3 x4 x5 x6\n",
    "p = x2 * x5 + x3 * x6 - x2 * x3 - x5 * x6 + x1 * (-x1 + x2 + x3 - x4 + x5 + x6)\n",
    "dom = a×b×c×d×e×f\n",
    "@variable(model, γ)\n",
    "S = @set inf(a) <= x1 && x1 <= sup(a) &&\n",
    "         inf(b) <= x2 && x2 <= sup(b) &&\n",
    "         inf(c) <= x3 && x3 <= sup(c) &&\n",
    "         inf(d) <= x4 && x4 <= sup(d) &&\n",
    "         inf(e) <= x5 && x5 <= sup(e) &&\n",
    "         inf(f) <= x6 && x6 <= sup(f) \n",
    "@constraint(model, p <= γ, domain=S, maxdegree=k)\n",
    "\n",
    "@objective(model, Min, γ)\n",
    "optimize!(model)\n",
    "println(objective_value(model))"
   ]
  },
  {
   "cell_type": "code",
   "execution_count": 14,
   "metadata": {},
   "outputs": [
    {
     "name": "stdout",
     "output_type": "stream",
     "text": [
      "pdINF criteria :: line 1192 in sdpa_parts.cpp\n",
      "-0.006350161602312392\n"
     ]
    }
   ],
   "source": [
    "#Keplar1\n",
    "model = SOSModel(with_optimizer(SDPA.Optimizer))\n",
    "#model = SOSModel(with_optimizer(Mosek.Optimizer, QUIET=true))\n",
    "k = 6 # use this number or higher\n",
    "@polyvar x1 x2 x3 x4 x5 x6\n",
    "p = x2 * x5 + x3 * x6 - x2 * x3 - x5 * x6 + x1 * (-x1 + x2 + x3 - x4 + x5 + x6)\n",
    "dom = a×b×c×d×e×f\n",
    "@variable(model, γ)\n",
    "S = @set inf(a) <= x1 && x1 <= sup(a) &&\n",
    "         inf(b) <= x2 && x2 <= sup(b) &&\n",
    "         inf(c) <= x3 && x3 <= sup(c) &&\n",
    "         inf(d) <= x4 && x4 <= sup(d) &&\n",
    "         inf(e) <= x5 && x5 <= sup(e) &&\n",
    "         inf(f) <= x6 && x6 <= sup(f) \n",
    "@constraint(model, p >= γ, domain=S, maxdegree=k)\n",
    "\n",
    "@objective(model, Max, γ)\n",
    "optimize!(model)\n",
    "println(objective_value(model))\n",
    "\n"
   ]
  },
  {
   "cell_type": "code",
   "execution_count": 15,
   "metadata": {},
   "outputs": [
    {
     "name": "stdout",
     "output_type": "stream",
     "text": [
      "Strange behavior : primal < dual :: line 144 in sdpa_solve.cpp\n",
      "-0.5400007931640722\n"
     ]
    }
   ],
   "source": [
    "#Rigidbody1\n",
    "model = SOSModel(with_optimizer(SDPA.Optimizer))\n",
    "#model = SOSModel(with_optimizer(Mosek.Optimizer, QUIET=true))\n",
    "k = 4 # use this number or higher\n",
    "@polyvar x1 x2 x3 \n",
    "  p = -x1*x2 - 2*x2*x3 - x1 - x3\n",
    "dom = a×b×c×d×e×f\n",
    "@variable(model, γ)\n",
    "S = @set inf(a) <= x1 && x1 <= sup(a) &&\n",
    "         inf(b) <= x2 && x2 <= sup(b) &&\n",
    "         inf(c) <= x3 && x3 <= sup(c) \n",
    "@constraint(model, p <= γ, domain=S, maxdegree=k)\n",
    "\n",
    "@objective(model, Min, γ)\n",
    "optimize!(model)\n",
    "println(objective_value(model))\n",
    "\n"
   ]
  },
  {
   "cell_type": "code",
   "execution_count": 16,
   "metadata": {},
   "outputs": [
    {
     "name": "stdout",
     "output_type": "stream",
     "text": [
      "pdINF criteria :: line 1192 in sdpa_parts.cpp\n",
      "-14.691269544488044\n"
     ]
    }
   ],
   "source": [
    "#Rigidbody1\n",
    "model = SOSModel(with_optimizer(SDPA.Optimizer))\n",
    "#model = SOSModel(with_optimizer(Mosek.Optimizer, QUIET=true))\n",
    "k = 7 # use this number or higher\n",
    "@polyvar x1 x2 x3 \n",
    "  p = -x1*x2 - 2*x2*x3 - x1 - x3\n",
    "dom = a×b×c×d×e×f\n",
    "@variable(model, γ)\n",
    "S = @set inf(a) <= x1 && x1 <= sup(a) &&\n",
    "         inf(b) <= x2 && x2 <= sup(b) &&\n",
    "         inf(c) <= x3 && x3 <= sup(c) \n",
    "@constraint(model, p >= γ, domain=S, maxdegree=k)\n",
    "\n",
    "@objective(model, Max, γ)\n",
    "optimize!(model)\n",
    "println(objective_value(model))"
   ]
  },
  {
   "cell_type": "code",
   "execution_count": 17,
   "metadata": {},
   "outputs": [
    {
     "name": "stdout",
     "output_type": "stream",
     "text": [
      "pdINF criteria :: line 1192 in sdpa_parts.cpp\n",
      "165.08965934860726\n"
     ]
    }
   ],
   "source": [
    "#Rigidbody2 \n",
    "\n",
    "model = SOSModel(with_optimizer(SDPA.Optimizer))\n",
    "#model = SOSModel(with_optimizer(Mosek.Optimizer, QUIET=true))\n",
    "k = 7 # use this number or higher\n",
    "@polyvar x1 x2 x3 \n",
    " p = 2*(x1*x2*x3) + (3*x3*x3) - x2*(x1*x2*x3) + (3*x3*x3) - x2\n",
    "@variable(model, γ)\n",
    "S = @set inf(a) <= x1 && x1 <= sup(a) &&\n",
    "         inf(b) <= x2 && x2 <= sup(b) &&\n",
    "         inf(c) <= x3 && x3 <= sup(c) \n",
    "@constraint(model, p <= γ, domain=S, maxdegree=k)\n",
    "\n",
    "@objective(model, Min, γ)\n",
    "optimize!(model)\n",
    "println(objective_value(model))"
   ]
  },
  {
   "cell_type": "code",
   "execution_count": 18,
   "metadata": {},
   "outputs": [
    {
     "name": "stdout",
     "output_type": "stream",
     "text": [
      "68.81100268211101\n"
     ]
    }
   ],
   "source": [
    "#Rigidbody2 \n",
    "\n",
    "model = SOSModel(with_optimizer(SDPA.Optimizer))\n",
    "#model = SOSModel(with_optimizer(Mosek.Optimizer, QUIET=true))\n",
    "k = 7 # use this number or higher\n",
    "@polyvar x1 x2 x3 \n",
    " p = 2*(x1*x2*x3) + (3*x3*x3) - x2*(x1*x2*x3) + (3*x3*x3) - x2\n",
    "@variable(model, γ)\n",
    "S = @set inf(a) <= x1 && x1 <= sup(a) &&\n",
    "         inf(b) <= x2 && x2 <= sup(b) &&\n",
    "         inf(c) <= x3 && x3 <= sup(c) \n",
    "@constraint(model, p >= γ, domain=S, maxdegree=k)\n",
    "\n",
    "@objective(model, Max, γ)\n",
    "optimize!(model)\n",
    "println(objective_value(model))\n",
    "\n"
   ]
  },
  {
   "cell_type": "code",
   "execution_count": null,
   "metadata": {},
   "outputs": [],
   "source": []
  }
 ],
 "metadata": {
  "kernelspec": {
   "display_name": "Julia 1.1.0",
   "language": "julia",
   "name": "julia-1.1"
  },
  "language_info": {
   "file_extension": ".jl",
   "mimetype": "application/julia",
   "name": "julia",
   "version": "1.1.0"
  }
 },
 "nbformat": 4,
 "nbformat_minor": 2
}
