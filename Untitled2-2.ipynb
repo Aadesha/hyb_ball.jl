{
 "cells": [
  {
   "cell_type": "markdown",
   "metadata": {},
   "source": [
    "Polytopic overapproximation using support function: generalize the example to a two-dimensional system."
   ]
  },
  {
   "cell_type": "code",
   "execution_count": 3,
   "metadata": {},
   "outputs": [],
   "source": [
    "using SumOfSquares, DynamicPolynomials, MosekTools, TaylorModels, Plots"
   ]
  },
  {
   "cell_type": "code",
   "execution_count": 6,
   "metadata": {},
   "outputs": [
    {
     "name": "stdout",
     "output_type": "stream",
     "text": [
      "\u001b[32m\u001b[1m Resolving\u001b[22m\u001b[39m package versions...\n",
      "\u001b[32m\u001b[1m  Updating\u001b[22m\u001b[39m `~/.julia/environments/v1.1/Project.toml`\n",
      "\u001b[90m [no changes]\u001b[39m\n",
      "\u001b[32m\u001b[1m  Updating\u001b[22m\u001b[39m `~/.julia/environments/v1.1/Manifest.toml`\n",
      "\u001b[90m [no changes]\u001b[39m\n"
     ]
    }
   ],
   "source": [
    "using Pkg\n",
    "Pkg.add(\"SemialgebraicSets\")"
   ]
  },
  {
   "cell_type": "code",
   "execution_count": 4,
   "metadata": {},
   "outputs": [],
   "source": [
    "using SemialgebraicSets"
   ]
  },
  {
   "cell_type": "code",
   "execution_count": 6,
   "metadata": {},
   "outputs": [
    {
     "data": {
      "text/plain": [
       "[1, 2]"
      ]
     },
     "execution_count": 6,
     "metadata": {},
     "output_type": "execute_result"
    }
   ],
   "source": [
    "a = Interval(-4.5, -0.3)\n",
    "b = Interval(0.4, 0.9)\n",
    "c = Interval(3.8, 7.8)\n",
    "d = Interval(8.0, 10.0)\n",
    "e = Interval(-10.0, 8.0)\n",
    "f = Interval(1.0, 2.0)\n"
   ]
  },
  {
   "cell_type": "code",
   "execution_count": 44,
   "metadata": {},
   "outputs": [
    {
     "name": "stdout",
     "output_type": "stream",
     "text": [
      "15.187499420379488\n"
     ]
    }
   ],
   "source": [
    "#bspline3\n",
    "using SDPA\n",
    "model = SOSModel(with_optimizer(SDPA.Optimizer))\n",
    "#model = SOSModel(with_optimizer(Mosek.Optimizer, QUIET=true))\n",
    "k = 7 # use this number or higher\n",
    "@polyvar x\n",
    "p = -x*x*x / 6.0\n",
    "\n",
    "@variable(model, γ)\n",
    "S = @set inf(a) <= x && x <= sup(a)\n",
    "@constraint(model, p <= γ, domain=S, maxdegree=k)\n",
    "\n",
    "@objective(model, Min, γ)\n",
    "optimize!(model)\n",
    "println(objective_value(model))\n",
    "\n"
   ]
  },
  {
   "cell_type": "code",
   "execution_count": 45,
   "metadata": {},
   "outputs": [
    {
     "name": "stdout",
     "output_type": "stream",
     "text": [
      "Strange behavior : primal < dual :: line 144 in sdpa_solve.cpp\n",
      "0.004500548758278325\n"
     ]
    }
   ],
   "source": [
    "#bspline3\n",
    "using SDPA\n",
    "model = SOSModel(with_optimizer(SDPA.Optimizer))\n",
    "#model = SOSModel(with_optimizer(Mosek.Optimizer, QUIET=true))\n",
    "k = 7 # use this number or higher\n",
    "@polyvar x\n",
    "p = -x*x*x / 6.0\n",
    "\n",
    "@variable(model, γ)\n",
    "S = @set inf(a) <= x && x <= sup(a)\n",
    "@constraint(model, p >= γ, domain=S, maxdegree=k)\n",
    "@objective(model, Max, γ)\n",
    "optimize!(model)\n",
    "println(objective_value(model))"
   ]
  },
  {
   "cell_type": "code",
   "execution_count": 46,
   "metadata": {},
   "outputs": [
    {
     "name": "stdout",
     "output_type": "stream",
     "text": [
      "221.73401457671844\n"
     ]
    }
   ],
   "source": [
    "#himmilbeau\n",
    "model = SOSModel(with_optimizer(SDPA.Optimizer))\n",
    "#model = SOSModel(with_optimizer(Mosek.Optimizer, QUIET=true))\n",
    "k = 4\n",
    "# use this number or higher\n",
    "@polyvar x1 x2 \n",
    "p = (x1*x1 + x2 - 11)*(x1 * x1 + x2 - 11) + (x1 + x2*x2 - 7)*(x1 + x2*x2 - 7)\n",
    "\n",
    "@variable(model, γ)\n",
    "S = @set inf(a) <= x1 && x1 <= sup(a) &&\n",
    "         inf(b) <= x2 && x2 <= sup(b) \n",
    "@constraint(model, p <= γ, domain=S, maxdegree=k)\n",
    "\n",
    "@objective(model, Min, γ)\n",
    "optimize!(model)\n",
    "println(objective_value(model))\n"
   ]
  },
  {
   "cell_type": "code",
   "execution_count": 47,
   "metadata": {},
   "outputs": [
    {
     "name": "stdout",
     "output_type": "stream",
     "text": [
      "85.46812223067747\n"
     ]
    }
   ],
   "source": [
    "#himmilbeau\n",
    "model = SOSModel(with_optimizer(SDPA.Optimizer))\n",
    "#model = SOSModel(with_optimizer(Mosek.Optimizer, QUIET=true))\n",
    "k = 4\n",
    "# use this number or higher\n",
    "@polyvar x1 x2 \n",
    "p = (x1*x1 + x2 - 11)*(x1 * x1 + x2 - 11) + (x1 + x2*x2 - 7)*(x1 + x2*x2 - 7)\n",
    "\n",
    "@variable(model, γ)\n",
    "S = @set inf(a) <= x1 && x1 <= sup(a) &&\n",
    "         inf(b) <= x2 && x2 <= sup(b) \n",
    "@constraint(model, p >= γ, domain=S, maxdegree=k)\n",
    "\n",
    "@objective(model, Max, γ)\n",
    "optimize!(model)\n",
    "println(objective_value(model))"
   ]
  },
  {
   "cell_type": "code",
   "execution_count": 48,
   "metadata": {},
   "outputs": [
    {
     "name": "stdout",
     "output_type": "stream",
     "text": [
      "53.604164361041626\n"
     ]
    }
   ],
   "source": [
    "#bspline2\n",
    "model = SOSModel(with_optimizer(SDPA.Optimizer))\n",
    "#model = SOSModel(with_optimizer(Mosek.Optimizer, QUIET=true))\n",
    "k = 4 # use this number or higher\n",
    "@polyvar x \n",
    "\n",
    "p = (-3*x*x*x  + 3*x*x + 3*x + 1) / 6.0\n",
    "\n",
    "@variable(model, γ)\n",
    "S = @set inf(a) <= x && x <= sup(a)\n",
    "@constraint(model, p <= γ, domain=S, maxdegree=k)\n",
    "\n",
    "@objective(model, Min, γ)\n",
    "optimize!(model)\n",
    "println(objective_value(model))\n",
    "\n"
   ]
  },
  {
   "cell_type": "code",
   "execution_count": 49,
   "metadata": {},
   "outputs": [
    {
     "name": "stdout",
     "output_type": "stream",
     "text": [
      "Strange behavior : primal < dual :: line 144 in sdpa_solve.cpp\n",
      "0.074074374179985\n"
     ]
    }
   ],
   "source": [
    "#bspline2\n",
    "model = SOSModel(with_optimizer(SDPA.Optimizer))\n",
    "#model = SOSModel(with_optimizer(Mosek.Optimizer, QUIET=true))\n",
    "k = 4 # use this number or higher\n",
    "@polyvar x \n",
    "\n",
    "p = (-3*x*x*x  + 3*x*x + 3*x + 1) / 6.0\n",
    "\n",
    "@variable(model, γ)\n",
    "S = @set inf(a) <= x && x <= sup(a)\n",
    "@constraint(model, p >= γ, domain=S, maxdegree=k)\n",
    "\n",
    "@objective(model, Max, γ)\n",
    "optimize!(model)\n",
    "println(objective_value(model))\n",
    "\n"
   ]
  },
  {
   "cell_type": "code",
   "execution_count": null,
   "metadata": {},
   "outputs": [],
   "source": []
  }
 ],
 "metadata": {
  "kernelspec": {
   "display_name": "Julia 1.1.0",
   "language": "julia",
   "name": "julia-1.1"
  },
  "language_info": {
   "file_extension": ".jl",
   "mimetype": "application/julia",
   "name": "julia",
   "version": "1.1.0"
  }
 },
 "nbformat": 4,
 "nbformat_minor": 2
}
