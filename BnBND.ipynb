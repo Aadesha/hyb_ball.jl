{
 "cells": [
  {
   "cell_type": "code",
   "execution_count": 7,
   "metadata": {},
   "outputs": [],
   "source": [
    "using Revise, TaylorModels, Plots, TaylorSeries, IntervalArithmetic, IntervalOptimisation\n",
    "using LazySets:Zonotope,split,Hyperrectangle"
   ]
  },
  {
   "cell_type": "code",
   "execution_count": 12,
   "metadata": {},
   "outputs": [
    {
     "data": {
      "text/plain": [
       "branchandbound (generic function with 1 method)"
      ]
     },
     "execution_count": 12,
     "metadata": {},
     "output_type": "execute_result"
    }
   ],
   "source": [
    "function branchandbound(p::TaylorN{T},dom::IntervalBox{N,T},ϵ::Number) where {N,T}\n",
    "    K = 1\n",
    "    Rperv = evaluate(p,dom)\n",
    "    D1,D2 = bisect(dom)\n",
    "    D = [ D1 , D2 ]\n",
    "    R = [evaluate(p, D[i]) for i = 1:length(D)]\n",
    "    Rnext = Interval(minimum(R[i].lo for i = 1:length(R)),\n",
    "                     maximum(R[i].hi for i = 1:length(R)))\n",
    "     #condition given in the algo and max no of steps K\n",
    "    while  (Rperv.hi - Rnext.hi) <= ϵ*(Rnext.hi - Rnext.lo) &&\n",
    "           (Rperv.lo - Rnext.lo) <= ϵ*(Rnext.hi - Rnext.lo) && (K <= 10)\n",
    "        #caclulate the max and min of range before further splitting\n",
    "        Rperv = Interval(minimum(R[i].lo for i = 1:length(R)),\n",
    "                         maximum(R[i].hi for i = 1:length(R)))\n",
    "        R_x = [ R[i].hi for i = 1:length(R)]\n",
    "        R_n = [ R[i].lo for i = 1:length(R)]\n",
    "        max = maximum(R[i].hi for i = 1:length(R)) # max of range \n",
    "        max = findall(x->x == max, R_x)[1]#index of max range giving domain \n",
    "        min = minimum(R[i].lo for i = 1:length(R))# min of range\n",
    "        min = findall(x->x == min, R_n)[1]#index of min range giving domain \n",
    "        l_D = length(D[1])#number of dimension\n",
    "        K = K + 1\n",
    "        if min == max\n",
    "            BA = [ ((D[max][i]).hi - (D[max][i]).lo) for i = 1:l_D] #width of the each dimention\n",
    "            Beta1 = maximum(BA)#max element of BA\n",
    "            β = findall(x->x==Beta1,BA)[1] #Index of split\n",
    "            Mat = ones(Int64,length(BA)); Mat[β] = 2 #array of ones and single two\n",
    "            H = convert(Hyperrectangle,D[max])#convert the domain to be splited into Hyperrectangl\n",
    "            D1,D2 = split(H,Mat) #now split the Hyperrectangl\n",
    "            #update the domain array\n",
    "            D[max] = convert(IntervalBox, D1)\n",
    "            DD = push!(D[1:max],convert(IntervalBox, D2))\n",
    "            D = append!(DD, D[(max+1):length(D)])\n",
    "            #update the range array\n",
    "            R[max] = evaluate(p,D[max])\n",
    "            RR = append!(R[1:max], evaluate(p,D[max+1]))\n",
    "            R = append!(RR, R[(max+1):length(R)])\n",
    "            #max and min of range after split.\n",
    "            Rnext = Interval(minimum(R[i].lo for i=1:length(R)),\n",
    "                             maximum(R[i].hi for i=1:length(R)))\n",
    "        else\n",
    "            BA = [ ((D[max][i]).hi - (D[max][i]).lo) for i = 1:l_D] #width of the each dimention\n",
    "            Beta1 = maximum(BA) #max element of BA\n",
    "            β = findall(x->x==Beta1,BA)[1]#Index of split\n",
    "            Mat = ones(Int64,length(BA)); Mat[β] = 2 #array of ones and single two\n",
    "            H = convert(Hyperrectangle,D[max]) #convert the domain to be splited into Hyperrectangl\n",
    "            D1,D2 = split(H,Mat) #now split the Hyperrectangl\n",
    "            #update the domain array\n",
    "            D[max] = convert(IntervalBox, D1) \n",
    "            DD = push!(D[1:max],convert(IntervalBox, D2))\n",
    "            D = append!(DD, D[(max+1):length(D)])\n",
    "            #update the range array\n",
    "            R[max] = evaluate(p,D[max])\n",
    "            RR = append!(R[1:max], evaluate(p,D[max+1]))\n",
    "            R = append!(RR, R[(max+1):length(R)])\n",
    "            #= if index 'max' occurs before the index 'min' then\n",
    "            update 'min' as the indexing have changed after the update in the domain array.=#         \n",
    "            if max < min\n",
    "                min = min + 1\n",
    "            end\n",
    "            BA = [ ((D[min][i]).hi - (D[min][i]).lo) for i = 1:l_D]#width of the each dimention\n",
    "            Beta1 = maximum(BA)  #max element of BA\n",
    "            β = findall(x->x==Beta1,BA)[1]#Index of split\n",
    "            Mat = ones(Int64,length(BA)); Mat[β] = 2#array of ones and single two\n",
    "            H = convert(Hyperrectangle,D[min])#convert the domain to be splited into Hyperrectangl\n",
    "            D1,D2 = split(H,Mat) #now split the Hyperrectangl\n",
    "            #update the domain array\n",
    "            D[min] = convert(IntervalBox, D1)\n",
    "            DD = push!(D[1:min],convert(IntervalBox, D2))\n",
    "            D = append!(DD, D[(min+1):length(D)])\n",
    "            #update the domain array\n",
    "            R[min] = evaluate(p,D[min])\n",
    "            RR = append!(R[1:min], evaluate(p,D[min+1]))\n",
    "            R = append!(RR, R[(min+1):length(R)])\n",
    "            #max and min of range after split.\n",
    "            Rnext = Interval(minimum(R[i].lo for i=1:length(R)),\n",
    "                             maximum(R[i].hi for i=1:length(R)))\n",
    "        end\n",
    "    end\n",
    "    return Interval(minimum(R[i].lo for i=1:length(R)),\n",
    "                    maximum(R[i].hi for i=1:length(R)))\n",
    "end"
   ]
  },
  {
   "cell_type": "code",
   "execution_count": 13,
   "metadata": {},
   "outputs": [
    {
     "name": "stdout",
     "output_type": "stream",
     "text": [
      "Normal eval\n",
      "[-344.06, 557.543]\n",
      "BnB\n",
      "[-191.551, 296.421]\n"
     ]
    }
   ],
   "source": [
    "Dx1=Interval(-4.5,-0.3)\n",
    "Dx2=Interval(0.4,0.9)\n",
    "dom=Dx1×Dx2\n",
    "x1,x2=set_variables(Float64,[\"x1\",\"x2\"],order=5)\n",
    "\n",
    "himmilbeau=(x1*x1 + x2 - 11)*(x1 * x1 + x2 - 11)\n",
    "                                        + (x1 + x2*x2 - 7)*(x1 + x2*x2 - 7)\n",
    "println(\"Normal eval\")\n",
    "println(evaluate(himmilbeau,dom))\n",
    "\n",
    "println(\"BnB\")\n",
    "println(branchandbound(himmilbeau,dom,0.27))\n"
   ]
  }
 ],
 "metadata": {
  "kernelspec": {
   "display_name": "Julia 1.1.0",
   "language": "julia",
   "name": "julia-1.1"
  },
  "language_info": {
   "file_extension": ".jl",
   "mimetype": "application/julia",
   "name": "julia",
   "version": "1.1.0"
  }
 },
 "nbformat": 4,
 "nbformat_minor": 2
}
