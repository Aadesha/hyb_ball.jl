{
 "cells": [
  {
   "cell_type": "markdown",
   "metadata": {},
   "source": [
    "Polytopic overapproximation using support function: generalize the example to a two-dimensional system."
   ]
  },
  {
   "cell_type": "code",
   "execution_count": 3,
   "metadata": {},
   "outputs": [],
   "source": [
    "using SumOfSquares, DynamicPolynomials, MosekTools, TaylorModels, Plots"
   ]
  },
  {
   "cell_type": "code",
   "execution_count": 6,
   "metadata": {},
   "outputs": [
    {
     "name": "stdout",
     "output_type": "stream",
     "text": [
      "\u001b[32m\u001b[1m Resolving\u001b[22m\u001b[39m package versions...\n",
      "\u001b[32m\u001b[1m  Updating\u001b[22m\u001b[39m `~/.julia/environments/v1.1/Project.toml`\n",
      "\u001b[90m [no changes]\u001b[39m\n",
      "\u001b[32m\u001b[1m  Updating\u001b[22m\u001b[39m `~/.julia/environments/v1.1/Manifest.toml`\n",
      "\u001b[90m [no changes]\u001b[39m\n"
     ]
    }
   ],
   "source": [
    "using Pkg\n",
    "Pkg.add(\"SemialgebraicSets\")"
   ]
  },
  {
   "cell_type": "code",
   "execution_count": 4,
   "metadata": {},
   "outputs": [],
   "source": [
    "using SemialgebraicSets"
   ]
  },
  {
   "cell_type": "code",
   "execution_count": 6,
   "metadata": {},
   "outputs": [
    {
     "data": {
      "text/plain": [
       "[1, 2]"
      ]
     },
     "execution_count": 6,
     "metadata": {},
     "output_type": "execute_result"
    }
   ],
   "source": [
    "a = Interval(-4.5, -0.3)\n",
    "b = Interval(0.4, 0.9)\n",
    "c = Interval(3.8, 7.8)\n",
    "d = Interval(8.0, 10.0)\n",
    "e = Interval(-10.0, 8.0)\n",
    "f = Interval(1.0, 2.0)\n"
   ]
  },
  {
   "cell_type": "code",
   "execution_count": 19,
   "metadata": {},
   "outputs": [
    {
     "name": "stdout",
     "output_type": "stream",
     "text": [
      "pdINF criteria :: line 1192 in sdpa_parts.cpp\n",
      "104.40152595697236\n",
      "pdINF criteria :: line 1192 in sdpa_parts.cpp\n",
      "-103.46371289396285\n"
     ]
    }
   ],
   "source": [
    "#bspline3\n",
    "using SDPA\n",
    "model = SOSModel(with_optimizer(SDPA.Optimizer))\n",
    "#model = SOSModel(with_optimizer(Mosek.Optimizer, QUIET=true))\n",
    "k = 7 # use this number or higher\n",
    "@polyvar x\n",
    "p = -x*x*x / 6.0\n",
    "\n",
    "@variable(model, γ)\n",
    "S = @set inf(a) <= x && x <= sup(a)\n",
    "@constraint(model, p == γ, domain=S, maxdegree=k)\n",
    "\n",
    "@objective(model, Min, γ)\n",
    "optimize!(model)\n",
    "println(objective_value(model))\n",
    "\n",
    "@objective(model, Max, γ)\n",
    "optimize!(model)\n",
    "println(objective_value(model))"
   ]
  },
  {
   "cell_type": "code",
   "execution_count": 29,
   "metadata": {},
   "outputs": [
    {
     "name": "stdout",
     "output_type": "stream",
     "text": [
      "pdINF criteria :: line 1192 in sdpa_parts.cpp\n",
      "25250.387405702786\n",
      "pdINF criteria :: line 1192 in sdpa_parts.cpp\n",
      "-25561.631906647788\n"
     ]
    }
   ],
   "source": [
    "#himmilbeau\n",
    "model = SOSModel(with_optimizer(SDPA.Optimizer))\n",
    "#model = SOSModel(with_optimizer(Mosek.Optimizer, QUIET=true))\n",
    "k = 4\n",
    "# use this number or higher\n",
    "@polyvar x1 x2 \n",
    "p = (x1*x1 + x2 - 11)*(x1 * x1 + x2 - 11) + (x1 + x2*x2 - 7)*(x1 + x2*x2 - 7)\n",
    "\n",
    "@variable(model, γ)\n",
    "S = @set inf(a) <= x1 && x1 <= sup(a) &&\n",
    "         inf(b) <= x2 && x2 <= sup(b) \n",
    "@constraint(model, p == γ, domain=S, maxdegree=k)\n",
    "\n",
    "@objective(model, Min, γ)\n",
    "optimize!(model)\n",
    "println(objective_value(model))\n",
    "\n",
    "@objective(model, Max, γ)\n",
    "optimize!(model)\n",
    "println(objective_value(model))"
   ]
  },
  {
   "cell_type": "code",
   "execution_count": 37,
   "metadata": {},
   "outputs": [
    {
     "name": "stdout",
     "output_type": "stream",
     "text": [
      "pdINF criteria :: line 1192 in sdpa_parts.cpp\n",
      "1193.0927033765736\n",
      "pdINF criteria :: line 1192 in sdpa_parts.cpp\n",
      "-1176.4813803786035\n"
     ]
    }
   ],
   "source": [
    "#bspline2\n",
    "model = SOSModel(with_optimizer(SDPA.Optimizer))\n",
    "#model = SOSModel(with_optimizer(Mosek.Optimizer, QUIET=true))\n",
    "k = 4 # use this number or higher\n",
    "@polyvar x \n",
    "\n",
    "p = (-3*x*x*x  + 3*x*x + 3*x + 1) / 6.0\n",
    "\n",
    "@variable(model, γ)\n",
    "S = @set inf(a) <= x && x <= sup(a)\n",
    "@constraint(model, p == γ, domain=S, maxdegree=k)\n",
    "\n",
    "@objective(model, Min, γ)\n",
    "optimize!(model)\n",
    "println(objective_value(model))\n",
    "\n",
    "@objective(model, Max, γ)\n",
    "optimize!(model)\n",
    "println(objective_value(model))"
   ]
  }
 ],
 "metadata": {
  "kernelspec": {
   "display_name": "Julia 1.1.0",
   "language": "julia",
   "name": "julia-1.1"
  },
  "language_info": {
   "file_extension": ".jl",
   "mimetype": "application/julia",
   "name": "julia",
   "version": "1.1.0"
  }
 },
 "nbformat": 4,
 "nbformat_minor": 2
}
