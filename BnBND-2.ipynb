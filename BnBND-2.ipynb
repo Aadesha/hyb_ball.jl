{
 "cells": [
  {
   "cell_type": "code",
   "execution_count": 27,
   "metadata": {},
   "outputs": [],
   "source": [
    "using Revise, TaylorModels, Plots, TaylorSeries, IntervalArithmetic, IntervalOptimisation\n",
    "using LazySets:Zonotope,split,Hyperrectangle"
   ]
  },
  {
   "cell_type": "code",
   "execution_count": 36,
   "metadata": {},
   "outputs": [
    {
     "data": {
      "text/plain": [
       "branchandbound (generic function with 1 method)"
      ]
     },
     "execution_count": 36,
     "metadata": {},
     "output_type": "execute_result"
    }
   ],
   "source": [
    "function branchandbound(p::TaylorN{T},dom::IntervalBox{N,T},ϵ::Number) where {N,T}\n",
    "    K = 1\n",
    "    Rperv = evaluate(p,dom)\n",
    "    D1,D2 = bisect(dom)\n",
    "    D = [ D1 , D2 ]\n",
    "    R = [evaluate(p, D[i]) for i = 1:length(D)]\n",
    "    Rnext = Interval(minimum(R[i].lo for i = 1:length(R)),\n",
    "                     maximum(R[i].hi for i = 1:length(R)))\n",
    "     #condition given in the algo and max no of steps K\n",
    "    while  (Rperv.hi - Rnext.hi) <= ϵ*(Rnext.hi - Rnext.lo) &&\n",
    "           (Rperv.lo - Rnext.lo) <= ϵ*(Rnext.hi - Rnext.lo) && (K <= 1000)\n",
    "        #caclulate the max and min of range before further splitting\n",
    "        Rperv = Interval(minimum(R[i].lo for i = 1:length(R)),\n",
    "                         maximum(R[i].hi for i = 1:length(R)))\n",
    "        R_x = [ R[i].hi for i = 1:length(R)]\n",
    "        R_n = [ R[i].lo for i = 1:length(R)]\n",
    "        max = maximum(R[i].hi for i = 1:length(R)) # max of range \n",
    "        max = findall(x->x == max, R_x)[1]#index of max range giving domain \n",
    "        min = minimum(R[i].lo for i = 1:length(R))# min of range\n",
    "        min = findall(x->x == min, R_n)[1]#index of min range giving domain \n",
    "        l_D = length(D[1])#number of dimension\n",
    "        K = K + 1\n",
    "        if min == max\n",
    "            BA = [ ((D[max][i]).hi - (D[max][i]).lo) for i = 1:l_D] #width of the each dimention\n",
    "            Beta1 = maximum(BA)#max element of BA\n",
    "            β = findall(x->x==Beta1,BA)[1] #Index of split\n",
    "            Mat = ones(Int64,length(BA)); Mat[β] = 2 #array of ones and single two\n",
    "            H = convert(Hyperrectangle,D[max])#convert the domain to be splited into Hyperrectangl\n",
    "            D1,D2 = split(H,Mat) #now split the Hyperrectangl\n",
    "            #update the domain array\n",
    "            D[max] = convert(IntervalBox, D1)\n",
    "            DD = push!(D[1:max],convert(IntervalBox, D2))\n",
    "            D = append!(DD, D[(max+1):length(D)])\n",
    "            #update the range array\n",
    "            R[max] = evaluate(p,D[max])\n",
    "            RR = append!(R[1:max], evaluate(p,D[max+1]))\n",
    "            R = append!(RR, R[(max+1):length(R)])\n",
    "            #max and min of range after split.\n",
    "            Rnext = Interval(minimum(R[i].lo for i=1:length(R)),\n",
    "                             maximum(R[i].hi for i=1:length(R)))\n",
    "        else\n",
    "            BA = [ ((D[max][i]).hi - (D[max][i]).lo) for i = 1:l_D] #width of the each dimention\n",
    "            Beta1 = maximum(BA) #max element of BA\n",
    "            β = findall(x->x==Beta1,BA)[1]#Index of split\n",
    "            Mat = ones(Int64,length(BA)); Mat[β] = 2 #array of ones and single two\n",
    "            H = convert(Hyperrectangle,D[max]) #convert the domain to be splited into Hyperrectangl\n",
    "            D1,D2 = split(H,Mat) #now split the Hyperrectangl\n",
    "            #update the domain array\n",
    "            D[max] = convert(IntervalBox, D1) \n",
    "            DD = push!(D[1:max],convert(IntervalBox, D2))\n",
    "            D = append!(DD, D[(max+1):length(D)])\n",
    "            #update the range array\n",
    "            R[max] = evaluate(p,D[max])\n",
    "            RR = append!(R[1:max], evaluate(p,D[max+1]))\n",
    "            R = append!(RR, R[(max+1):length(R)])\n",
    "            #= if index 'max' occurs before the index 'min' then\n",
    "            update 'min' as the indexing have changed after the update in the domain array.=#         \n",
    "            if max < min\n",
    "                min = min + 1\n",
    "            end\n",
    "            BA = [ ((D[min][i]).hi - (D[min][i]).lo) for i = 1:l_D]#width of the each dimention\n",
    "            Beta1 = maximum(BA)  #max element of BA\n",
    "            β = findall(x->x==Beta1,BA)[1]#Index of split\n",
    "            Mat = ones(Int64,length(BA)); Mat[β] = 2#array of ones and single two\n",
    "            H = convert(Hyperrectangle,D[min])#convert the domain to be splited into Hyperrectangl\n",
    "            D1,D2 = split(H,Mat) #now split the Hyperrectangl\n",
    "            #update the domain array\n",
    "            D[min] = convert(IntervalBox, D1)\n",
    "            DD = push!(D[1:min],convert(IntervalBox, D2))\n",
    "            D = append!(DD, D[(min+1):length(D)])\n",
    "            #update the domain array\n",
    "            R[min] = evaluate(p,D[min])\n",
    "            RR = append!(R[1:min], evaluate(p,D[min+1]))\n",
    "            R = append!(RR, R[(min+1):length(R)])\n",
    "            #max and min of range after split.\n",
    "            Rnext = Interval(minimum(R[i].lo for i=1:length(R)),\n",
    "                             maximum(R[i].hi for i=1:length(R)))\n",
    "        end\n",
    "    end\n",
    "    println(K)\n",
    "    return Interval(minimum(R[i].lo for i=1:length(R)),\n",
    "                    maximum(R[i].hi for i=1:length(R)))\n",
    "end"
   ]
  },
  {
   "cell_type": "code",
   "execution_count": 37,
   "metadata": {},
   "outputs": [
    {
     "name": "stdout",
     "output_type": "stream",
     "text": [
      "Normal eval\n",
      "[-344.06, 557.543]\n",
      "BnB\n",
      "1001\n",
      "[-2.58927, 110.461]\n"
     ]
    }
   ],
   "source": [
    "Dx1=Interval(-4.5,-0.3)\n",
    "Dx2=Interval(0.4,0.9)\n",
    "dom=Dx1×Dx2\n",
    "x1,x2=set_variables(Float64,[\"x1\",\"x2\"],order=5)\n",
    "\n",
    "himmilbeau=(x1*x1 + x2 - 11)*(x1 * x1 + x2 - 11)\n",
    "                                        + (x1 + x2*x2 - 7)*(x1 + x2*x2 - 7)\n",
    "println(\"Normal eval\")\n",
    "println(evaluate(himmilbeau,dom))\n",
    "\n",
    "println(\"BnB\")\n",
    "println(branchandbound(himmilbeau,dom,0.3))\n"
   ]
  },
  {
   "cell_type": "code",
   "execution_count": 30,
   "metadata": {},
   "outputs": [
    {
     "data": {
      "text/plain": [
       "_minmax (generic function with 1 method)"
      ]
     },
     "execution_count": 30,
     "metadata": {},
     "output_type": "execute_result"
    }
   ],
   "source": [
    "function _minmax(p, dom) #takes time\n",
    "    global_min, _ = minimise(p, dom)\n",
    "    minus_global_max, _ = minimise(-p, dom)\n",
    "    global_max = -minus_global_max\n",
    "    return global_min, global_max\n",
    "end"
   ]
  },
  {
   "cell_type": "code",
   "execution_count": 24,
   "metadata": {},
   "outputs": [
    {
     "data": {
      "text/plain": [
       "([-0.163625, 4.29168e-12], [110.446, 110.462])"
      ]
     },
     "execution_count": 24,
     "metadata": {},
     "output_type": "execute_result"
    }
   ],
   "source": [
    " _minmax(himmilbeau , dom)\n"
   ]
  },
  {
   "cell_type": "code",
   "execution_count": 38,
   "metadata": {},
   "outputs": [
    {
     "data": {
      "text/plain": [
       " - 1.0 x1² + 1.0 x1 x2 + 1.0 x1 x3 - 1.0 x1 x4 + 1.0 x1 x5 + 1.0 x1 x6 + 𝒪(‖x‖⁴)"
      ]
     },
     "execution_count": 38,
     "metadata": {},
     "output_type": "execute_result"
    }
   ],
   "source": [
    "Dx1 = Interval(-4.5,-0.3)\n",
    "Dx2 = Interval(0.4,0.9)\n",
    "Dx3 = Interval(3.8,7.8)\n",
    "Dx4 = Interval(8.0,10.0)\n",
    "Dx5 = Interval(-10.0,8.0)\n",
    "Dx6 = Interval(1.0,2.0)\n",
    "dom = Dx1×Dx2×Dx3×Dx4×Dx5×Dx6\n",
    "\n",
    "\n",
    "x1, x2, x3, x4, x5, x6 = set_variables(Float64,[\"x1\",\"x2\",\"x3\",\n",
    "                                                \"x4\",\"x5\",\"x6\"],order = 3)\n",
    "kepler0 =  x2 * x5 + x3 * x6 - x2 * x3 - x5 * x6\n",
    "                                           + x1 * (-x1 + x2 + x3 - x4 + x5 + x6)"
   ]
  },
  {
   "cell_type": "code",
   "execution_count": 39,
   "metadata": {},
   "outputs": [
    {
     "name": "stdout",
     "output_type": "stream",
     "text": [
      "Normal eval\n",
      "[-28.2201, 41.2801]\n",
      "BnB\n",
      "1001\n",
      "[-11.8898, 28.6359]\n"
     ]
    }
   ],
   "source": [
    "println(\"Normal eval\")\n",
    "println(evaluate(kepler0,dom))\n",
    "\n",
    "println(\"BnB\")\n",
    "println(branchandbound(kepler0,dom,0.3))"
   ]
  },
  {
   "cell_type": "code",
   "execution_count": null,
   "metadata": {},
   "outputs": [],
   "source": [
    " _minmax( kepler0, dom)"
   ]
  },
  {
   "cell_type": "code",
   "execution_count": null,
   "metadata": {},
   "outputs": [],
   "source": []
  }
 ],
 "metadata": {
  "kernelspec": {
   "display_name": "Julia 1.1.0",
   "language": "julia",
   "name": "julia-1.1"
  },
  "language_info": {
   "file_extension": ".jl",
   "mimetype": "application/julia",
   "name": "julia",
   "version": "1.1.0"
  }
 },
 "nbformat": 4,
 "nbformat_minor": 2
}
