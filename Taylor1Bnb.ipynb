{
 "cells": [
  {
   "cell_type": "code",
   "execution_count": 2,
   "metadata": {},
   "outputs": [],
   "source": [
    "using Revise, TaylorModels, Plots, TaylorSeries, IntervalArithmetic, IntervalOptimisation\n",
    "\n"
   ]
  },
  {
   "cell_type": "code",
   "execution_count": 3,
   "metadata": {},
   "outputs": [
    {
     "data": {
      "text/plain": [
       "branchandbound (generic function with 1 method)"
      ]
     },
     "execution_count": 3,
     "metadata": {},
     "output_type": "execute_result"
    }
   ],
   "source": [
    "\n",
    "function branchandbound(p::Taylor1{T},dom::Interval{T},ϵ::Number)where{T}\n",
    "    Rperv = evaluate(p,dom)\n",
    "    D = bisect(dom)\n",
    "    D = [ D[i][1] for i = 1:2]\n",
    "    R = [evaluate(p, D[i]) for i = 1:length(D)]\n",
    "    Rnext = Interval(minimum(R[i].lo for i=1:length(R)),\n",
    "                     maximum(R[i].hi for i=1:length(R)))\n",
    "    K = 1  \n",
    "    #condition given in the algo and max no of steps K\n",
    "    while  (Rperv.hi - Rnext.hi) <= ϵ*(Rnext.hi - Rnext.lo) && \n",
    "           (Rperv.lo - Rnext.lo) <= ϵ*(Rnext.hi - Rnext.lo) && (K <= 100)\n",
    "        #caclulate the max and min of range before any further splitting\n",
    "        Rperv = Interval(minimum(R[i].lo for i=1:length(R)),  \n",
    "                         maximum(R[i].hi for i=1:length(R)))\n",
    "       \n",
    "        max = maximum(R[i].hi for i=1:length(R)) # max of range \n",
    "        #index of max range giving domain \n",
    "        for i = 1:length(R)\n",
    "            if R[i].hi == max\n",
    "                max = i\n",
    "                break;\n",
    "            end\n",
    "        end\n",
    "        min = minimum(R[i].lo for i=1:length(R))# min of range\n",
    "        #index of min range giving domain \n",
    "        for i = 1:length(R)\n",
    "            if R[i].lo == min\n",
    "                min = i\n",
    "                break;\n",
    "            end\n",
    "        end\n",
    "          \n",
    "        K = K + 1   #update value of K \n",
    "        if min == max             \n",
    "            D1, D2 = bisect(D[max]) #privide tuple bisecting domain\n",
    "            D[max] = D1             #set the first half of selected domain to itself  \n",
    "            DD = append!(D[1:max], D2)#append the second half of domain.\n",
    "            D = append!(DD, D[(max+1):length(D)])#update the array of domain\n",
    "            #do the same for the range \n",
    "            R[max] = evaluate(p,D[max])                  \n",
    "            RR = append!(R[1:max], evaluate(p,D[max+1]))\n",
    "            R = append!(RR, R[(max+1):length(R)])\n",
    "            #max and min of range after split. \n",
    "            Rnext = Interval(minimum(R[i].lo for i=1:length(R)),\n",
    "                             maximum(R[i].hi for i=1:length(R)))\n",
    "        else\n",
    "            #the steps are same as above \n",
    "            D1, D2 = bisect(D[max])\n",
    "            D[max] = D1\n",
    "            DD = append!(D[1:max], D2)\n",
    "            D = append!(DD, D[(max+1):length(D)])\n",
    "            R[max] = evaluate(p,D[max])\n",
    "            RR = append!(R[1:max], evaluate(p,D[max+1]))\n",
    "            R = append!(RR, R[(max+1):length(R)])\n",
    "            # if index 'max' occurs before the index 'min' then\n",
    "            #update 'min' as the indexing have changed after the update in the domain array. \n",
    "            if max < min\n",
    "                min = min + 1\n",
    "            end\n",
    "            #the steps are same as above but according to the 'min' as index\n",
    "            D1, D2 = bisect(D[min])\n",
    "            D[min] = D1\n",
    "            DD = append!(D[1:min], D2)\n",
    "            if (min + 1) == length(D)\n",
    "                D = append!(DD, D[min+1])\n",
    "            else\n",
    "                D = append!(DD, D[(min+1):length(D)])\n",
    "            end\n",
    "            R[min] = evaluate(p,D[min])\n",
    "            RR = append!(R[1:min], evaluate(p,D[min+1]))\n",
    "            R = append!(RR, R[(min+1):length(R)])\n",
    "            Rnext = Interval(minimum(R[i].lo for i=1:length(R)),\n",
    "                             maximum(R[i].hi for i=1:length(R)))\n",
    "        end\n",
    "    end\n",
    "    return Interval(minimum(R[i].lo for i=1:length(R)), #return the interval range.\n",
    "                    maximum(R[i].hi for i=1:length(R)))\n",
    "end"
   ]
  },
  {
   "cell_type": "code",
   "execution_count": 4,
   "metadata": {},
   "outputs": [
    {
     "name": "stdout",
     "output_type": "stream",
     "text": [
      "range before branch and bound\n",
      "[-4.6569, 10.6522]\n",
      "range using branch and bound\n",
      "[-1.00207, 2.72424]\n",
      "([-1.00057, -0.999843], [2.72256, 2.72754])\n"
     ]
    }
   ],
   "source": [
    "\n",
    "ϵ=0.4\n",
    "Dx=Interval(-4.5,-0.3)\n",
    "dom=Dx\n",
    "x=Taylor1(7)\n",
    "\n",
    "sin=x - (x*x*x)/6.0 + (x*x*x*x*x)/120.0 - (x*x*x*x*x*x*x)/5040.0\n",
    "\n",
    "println(\"range before branch and bound\")\n",
    "println(evaluate(sin,dom))\n",
    "println(\"range using branch and bound\")\n",
    "println(branchandbound(sin,Dx,ϵ))\n",
    "\n",
    "function _minmax(p, dom) #takes time\n",
    "    global_min, _ = minimise(p, dom)\n",
    "    minus_global_max, _ = minimise(-p, dom)\n",
    "    global_max = -minus_global_max\n",
    "    return global_min, global_max\n",
    "end\n",
    "\n",
    "println(_minmax(sin, Dx))\n",
    "\n"
   ]
  },
  {
   "cell_type": "code",
   "execution_count": null,
   "metadata": {},
   "outputs": [],
   "source": []
  }
 ],
 "metadata": {
  "kernelspec": {
   "display_name": "Julia 1.1.0",
   "language": "julia",
   "name": "julia-1.1"
  },
  "language_info": {
   "file_extension": ".jl",
   "mimetype": "application/julia",
   "name": "julia",
   "version": "1.1.0"
  }
 },
 "nbformat": 4,
 "nbformat_minor": 2
}
